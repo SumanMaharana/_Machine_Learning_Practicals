{
 "cells": [
  {
   "cell_type": "markdown",
   "id": "3faae890",
   "metadata": {},
   "source": [
    "<h1 style=\"color:red\" align=\"center\">Outliers Detection</h1>\n",
    "\n",
    "**732_Saksham**"
   ]
  },
  {
   "cell_type": "markdown",
   "id": "5746174b",
   "metadata": {},
   "source": [
    "**Aim : Find the Outliers from given dataset by using Trimming and Capping Method.**"
   ]
  },
  {
   "cell_type": "code",
   "execution_count": 1,
   "id": "705d5d92",
   "metadata": {},
   "outputs": [],
   "source": [
    "import pandas as pd\n",
    "import numpy as np"
   ]
  },
  {
   "cell_type": "code",
   "execution_count": 2,
   "id": "bfeccee8",
   "metadata": {},
   "outputs": [
    {
     "data": {
      "text/html": [
       "<div>\n",
       "<style scoped>\n",
       "    .dataframe tbody tr th:only-of-type {\n",
       "        vertical-align: middle;\n",
       "    }\n",
       "\n",
       "    .dataframe tbody tr th {\n",
       "        vertical-align: top;\n",
       "    }\n",
       "\n",
       "    .dataframe thead th {\n",
       "        text-align: right;\n",
       "    }\n",
       "</style>\n",
       "<table border=\"1\" class=\"dataframe\">\n",
       "  <thead>\n",
       "    <tr style=\"text-align: right;\">\n",
       "      <th></th>\n",
       "      <th>cgpa</th>\n",
       "      <th>placement_exam_marks</th>\n",
       "      <th>placed</th>\n",
       "    </tr>\n",
       "  </thead>\n",
       "  <tbody>\n",
       "    <tr>\n",
       "      <th>0</th>\n",
       "      <td>7.19</td>\n",
       "      <td>26.0</td>\n",
       "      <td>1</td>\n",
       "    </tr>\n",
       "    <tr>\n",
       "      <th>1</th>\n",
       "      <td>7.46</td>\n",
       "      <td>38.0</td>\n",
       "      <td>1</td>\n",
       "    </tr>\n",
       "    <tr>\n",
       "      <th>2</th>\n",
       "      <td>7.54</td>\n",
       "      <td>40.0</td>\n",
       "      <td>1</td>\n",
       "    </tr>\n",
       "    <tr>\n",
       "      <th>3</th>\n",
       "      <td>6.42</td>\n",
       "      <td>8.0</td>\n",
       "      <td>1</td>\n",
       "    </tr>\n",
       "    <tr>\n",
       "      <th>4</th>\n",
       "      <td>7.23</td>\n",
       "      <td>17.0</td>\n",
       "      <td>0</td>\n",
       "    </tr>\n",
       "  </tbody>\n",
       "</table>\n",
       "</div>"
      ],
      "text/plain": [
       "   cgpa  placement_exam_marks  placed\n",
       "0  7.19                  26.0       1\n",
       "1  7.46                  38.0       1\n",
       "2  7.54                  40.0       1\n",
       "3  6.42                   8.0       1\n",
       "4  7.23                  17.0       0"
      ]
     },
     "execution_count": 2,
     "metadata": {},
     "output_type": "execute_result"
    }
   ],
   "source": [
    "df = pd.read_csv(\"Dataset/placement.csv\")\n",
    "\n",
    "df.head()"
   ]
  },
  {
   "cell_type": "code",
   "execution_count": 3,
   "id": "574edc1b",
   "metadata": {},
   "outputs": [
    {
     "data": {
      "text/plain": [
       "cgpa                    0\n",
       "placement_exam_marks    0\n",
       "placed                  0\n",
       "dtype: int64"
      ]
     },
     "execution_count": 3,
     "metadata": {},
     "output_type": "execute_result"
    }
   ],
   "source": [
    "df.isnull().sum()"
   ]
  },
  {
   "cell_type": "code",
   "execution_count": 4,
   "id": "605640d2",
   "metadata": {},
   "outputs": [],
   "source": [
    "import seaborn as sns\n",
    "import matplotlib.pyplot as plt\n",
    "\n",
    "import warnings\n",
    "warnings.filterwarnings(\"ignore\")"
   ]
  },
  {
   "cell_type": "code",
   "execution_count": 5,
   "id": "22d851fe",
   "metadata": {},
   "outputs": [
    {
     "data": {
      "text/plain": [
       "<AxesSubplot:xlabel='placement_exam_marks', ylabel='Density'>"
      ]
     },
     "execution_count": 5,
     "metadata": {},
     "output_type": "execute_result"
    },
    {
     "data": {
      "image/png": "[encoded data removed]",
      "text/plain": [
       "<Figure size 720x360 with 2 Axes>"
      ]
     },
     "metadata": {
      "needs_background": "light"
     },
     "output_type": "display_data"
    }
   ],
   "source": [
    "plt.figure(figsize=(10,5))\n",
    "\n",
    "plt.subplot(1,2,1)\n",
    "sns.distplot(df['cgpa'])\n",
    "\n",
    "plt.subplot(1,2,2)\n",
    "sns.distplot(df['placement_exam_marks'], color=\"orange\")"
   ]
  },
  {
   "cell_type": "markdown",
   "id": "de1769d8",
   "metadata": {},
   "source": [
    "**CGPA is Normally distributed. Entrance exam is RightSkewed.**"
   ]
  },
  {
   "cell_type": "code",
   "execution_count": 6,
   "id": "e23a85d3",
   "metadata": {},
   "outputs": [
    {
     "data": {
      "text/plain": [
       "count    1000.000000\n",
       "mean       32.225000\n",
       "std        19.130822\n",
       "min         0.000000\n",
       "25%        17.000000\n",
       "50%        28.000000\n",
       "75%        44.000000\n",
       "max       100.000000\n",
       "Name: placement_exam_marks, dtype: float64"
      ]
     },
     "execution_count": 6,
     "metadata": {},
     "output_type": "execute_result"
    }
   ],
   "source": [
    "df['placement_exam_marks'].describe()"
   ]
  },
  {
   "cell_type": "code",
   "execution_count": 7,
   "id": "4def8a69",
   "metadata": {},
   "outputs": [
    {
     "data": {
      "text/plain": [
       "<AxesSubplot:xlabel='placement_exam_marks'>"
      ]
     },
     "execution_count": 7,
     "metadata": {},
     "output_type": "execute_result"
    },
    {
     "data": {
      "image/png": "[encoded data removed]",
      "text/plain": [
       "<Figure size 432x288 with 1 Axes>"
      ]
     },
     "metadata": {
      "needs_background": "light"
     },
     "output_type": "display_data"
    }
   ],
   "source": [
    "sns.boxplot(df['placement_exam_marks'])"
   ]
  },
  {
   "cell_type": "code",
   "execution_count": 8,
   "id": "c23ed9c2",
   "metadata": {},
   "outputs": [
    {
     "name": "stdout",
     "output_type": "stream",
     "text": [
      "Highest Boundary value of CGPA :  8.808933625397177\n",
      "Lowest Boundary value of CGPA :  5.113546374602842\n"
     ]
    }
   ],
   "source": [
    "# finding boundries value and print\n",
    "\n",
    "print(\"Highest Boundary value of CGPA : \", df['cgpa'].mean() + 3 * df['cgpa'].std())\n",
    "print(\"Lowest Boundary value of CGPA : \", df['cgpa'].mean() - 3 * df['cgpa'].std())\n",
    "\n",
    "# mean + 3 X STD"
   ]
  },
  {
   "cell_type": "code",
   "execution_count": 9,
   "id": "860b0b84",
   "metadata": {},
   "outputs": [
    {
     "data": {
      "text/html": [
       "<div>\n",
       "<style scoped>\n",
       "    .dataframe tbody tr th:only-of-type {\n",
       "        vertical-align: middle;\n",
       "    }\n",
       "\n",
       "    .dataframe tbody tr th {\n",
       "        vertical-align: top;\n",
       "    }\n",
       "\n",
       "    .dataframe thead th {\n",
       "        text-align: right;\n",
       "    }\n",
       "</style>\n",
       "<table border=\"1\" class=\"dataframe\">\n",
       "  <thead>\n",
       "    <tr style=\"text-align: right;\">\n",
       "      <th></th>\n",
       "      <th>cgpa</th>\n",
       "      <th>placement_exam_marks</th>\n",
       "      <th>placed</th>\n",
       "    </tr>\n",
       "  </thead>\n",
       "  <tbody>\n",
       "    <tr>\n",
       "      <th>485</th>\n",
       "      <td>4.92</td>\n",
       "      <td>44.0</td>\n",
       "      <td>1</td>\n",
       "    </tr>\n",
       "    <tr>\n",
       "      <th>995</th>\n",
       "      <td>8.87</td>\n",
       "      <td>44.0</td>\n",
       "      <td>1</td>\n",
       "    </tr>\n",
       "    <tr>\n",
       "      <th>996</th>\n",
       "      <td>9.12</td>\n",
       "      <td>65.0</td>\n",
       "      <td>1</td>\n",
       "    </tr>\n",
       "    <tr>\n",
       "      <th>997</th>\n",
       "      <td>4.89</td>\n",
       "      <td>34.0</td>\n",
       "      <td>0</td>\n",
       "    </tr>\n",
       "    <tr>\n",
       "      <th>999</th>\n",
       "      <td>4.90</td>\n",
       "      <td>10.0</td>\n",
       "      <td>1</td>\n",
       "    </tr>\n",
       "  </tbody>\n",
       "</table>\n",
       "</div>"
      ],
      "text/plain": [
       "     cgpa  placement_exam_marks  placed\n",
       "485  4.92                  44.0       1\n",
       "995  8.87                  44.0       1\n",
       "996  9.12                  65.0       1\n",
       "997  4.89                  34.0       0\n",
       "999  4.90                  10.0       1"
      ]
     },
     "execution_count": 9,
     "metadata": {},
     "output_type": "execute_result"
    }
   ],
   "source": [
    "# find outliers (Greater than Higest value and lower than lowest boundary.)\n",
    "\n",
    "df[(df['cgpa'] > 8.80) | (df['cgpa'] < 5.11)]\n",
    "\n",
    "# | = and"
   ]
  },
  {
   "cell_type": "markdown",
   "id": "ac4b7665",
   "metadata": {},
   "source": [
    "<h1 style=\"color:green\">Trimming</h1>\n"
   ]
  },
  {
   "cell_type": "code",
   "execution_count": 10,
   "id": "97a49c88",
   "metadata": {},
   "outputs": [
    {
     "data": {
      "text/plain": [
       "(1000, 3)"
      ]
     },
     "execution_count": 10,
     "metadata": {},
     "output_type": "execute_result"
    }
   ],
   "source": [
    "df.shape"
   ]
  },
  {
   "cell_type": "code",
   "execution_count": 11,
   "id": "314f09eb",
   "metadata": {},
   "outputs": [
    {
     "data": {
      "text/html": [
       "<div>\n",
       "<style scoped>\n",
       "    .dataframe tbody tr th:only-of-type {\n",
       "        vertical-align: middle;\n",
       "    }\n",
       "\n",
       "    .dataframe tbody tr th {\n",
       "        vertical-align: top;\n",
       "    }\n",
       "\n",
       "    .dataframe thead th {\n",
       "        text-align: right;\n",
       "    }\n",
       "</style>\n",
       "<table border=\"1\" class=\"dataframe\">\n",
       "  <thead>\n",
       "    <tr style=\"text-align: right;\">\n",
       "      <th></th>\n",
       "      <th>cgpa</th>\n",
       "      <th>placement_exam_marks</th>\n",
       "      <th>placed</th>\n",
       "    </tr>\n",
       "  </thead>\n",
       "  <tbody>\n",
       "    <tr>\n",
       "      <th>0</th>\n",
       "      <td>7.19</td>\n",
       "      <td>26.0</td>\n",
       "      <td>1</td>\n",
       "    </tr>\n",
       "    <tr>\n",
       "      <th>1</th>\n",
       "      <td>7.46</td>\n",
       "      <td>38.0</td>\n",
       "      <td>1</td>\n",
       "    </tr>\n",
       "    <tr>\n",
       "      <th>2</th>\n",
       "      <td>7.54</td>\n",
       "      <td>40.0</td>\n",
       "      <td>1</td>\n",
       "    </tr>\n",
       "  </tbody>\n",
       "</table>\n",
       "</div>"
      ],
      "text/plain": [
       "   cgpa  placement_exam_marks  placed\n",
       "0  7.19                  26.0       1\n",
       "1  7.46                  38.0       1\n",
       "2  7.54                  40.0       1"
      ]
     },
     "execution_count": 11,
     "metadata": {},
     "output_type": "execute_result"
    }
   ],
   "source": [
    "new_df = df[(df['cgpa'] < 8.80) & (df['cgpa'] > 5.11)]\n",
    "new_df.head(3)"
   ]
  },
  {
   "cell_type": "code",
   "execution_count": 12,
   "id": "3fd223bd",
   "metadata": {},
   "outputs": [
    {
     "data": {
      "text/plain": [
       "(995, 3)"
      ]
     },
     "execution_count": 12,
     "metadata": {},
     "output_type": "execute_result"
    }
   ],
   "source": [
    "new_df.shape"
   ]
  },
  {
   "cell_type": "markdown",
   "id": "3f83b866",
   "metadata": {},
   "source": [
    "<h1 style=\"color:green\">Z-Score</h1>\n",
    "\n",
    "Zi = Xi - Mean / std"
   ]
  },
  {
   "cell_type": "code",
   "execution_count": 13,
   "id": "bca14feb",
   "metadata": {},
   "outputs": [],
   "source": [
    "df['cgpa_z_score'] = (df['cgpa'] - df['cgpa'].mean() ) / df['cgpa'].std()"
   ]
  },
  {
   "cell_type": "code",
   "execution_count": 14,
   "id": "05ecfd85",
   "metadata": {},
   "outputs": [
    {
     "data": {
      "text/html": [
       "<div>\n",
       "<style scoped>\n",
       "    .dataframe tbody tr th:only-of-type {\n",
       "        vertical-align: middle;\n",
       "    }\n",
       "\n",
       "    .dataframe tbody tr th {\n",
       "        vertical-align: top;\n",
       "    }\n",
       "\n",
       "    .dataframe thead th {\n",
       "        text-align: right;\n",
       "    }\n",
       "</style>\n",
       "<table border=\"1\" class=\"dataframe\">\n",
       "  <thead>\n",
       "    <tr style=\"text-align: right;\">\n",
       "      <th></th>\n",
       "      <th>cgpa</th>\n",
       "      <th>placement_exam_marks</th>\n",
       "      <th>placed</th>\n",
       "      <th>cgpa_z_score</th>\n",
       "    </tr>\n",
       "  </thead>\n",
       "  <tbody>\n",
       "    <tr>\n",
       "      <th>26</th>\n",
       "      <td>7.45</td>\n",
       "      <td>8.0</td>\n",
       "      <td>1</td>\n",
       "      <td>0.793573</td>\n",
       "    </tr>\n",
       "    <tr>\n",
       "      <th>802</th>\n",
       "      <td>6.10</td>\n",
       "      <td>16.0</td>\n",
       "      <td>0</td>\n",
       "      <td>-1.398349</td>\n",
       "    </tr>\n",
       "    <tr>\n",
       "      <th>468</th>\n",
       "      <td>6.73</td>\n",
       "      <td>70.0</td>\n",
       "      <td>0</td>\n",
       "      <td>-0.375452</td>\n",
       "    </tr>\n",
       "    <tr>\n",
       "      <th>507</th>\n",
       "      <td>6.77</td>\n",
       "      <td>75.0</td>\n",
       "      <td>1</td>\n",
       "      <td>-0.310506</td>\n",
       "    </tr>\n",
       "  </tbody>\n",
       "</table>\n",
       "</div>"
      ],
      "text/plain": [
       "     cgpa  placement_exam_marks  placed  cgpa_z_score\n",
       "26   7.45                   8.0       1      0.793573\n",
       "802  6.10                  16.0       0     -1.398349\n",
       "468  6.73                  70.0       0     -0.375452\n",
       "507  6.77                  75.0       1     -0.310506"
      ]
     },
     "execution_count": 14,
     "metadata": {},
     "output_type": "execute_result"
    }
   ],
   "source": [
    "df.sample(4)"
   ]
  },
  {
   "cell_type": "code",
   "execution_count": 15,
   "id": "655238ae",
   "metadata": {},
   "outputs": [
    {
     "data": {
      "text/plain": [
       "count    1.000000e+03\n",
       "mean    -1.600275e-14\n",
       "std      1.000000e+00\n",
       "min     -3.362960e+00\n",
       "25%     -6.677081e-01\n",
       "50%     -2.013321e-03\n",
       "75%      6.636815e-01\n",
       "max      3.505062e+00\n",
       "Name: cgpa_z_score, dtype: float64"
      ]
     },
     "execution_count": 15,
     "metadata": {},
     "output_type": "execute_result"
    }
   ],
   "source": [
    "df['cgpa_z_score'].describe()"
   ]
  },
  {
   "cell_type": "code",
   "execution_count": 16,
   "id": "5c63ca7e",
   "metadata": {},
   "outputs": [
    {
     "data": {
      "text/html": [
       "<div>\n",
       "<style scoped>\n",
       "    .dataframe tbody tr th:only-of-type {\n",
       "        vertical-align: middle;\n",
       "    }\n",
       "\n",
       "    .dataframe tbody tr th {\n",
       "        vertical-align: top;\n",
       "    }\n",
       "\n",
       "    .dataframe thead th {\n",
       "        text-align: right;\n",
       "    }\n",
       "</style>\n",
       "<table border=\"1\" class=\"dataframe\">\n",
       "  <thead>\n",
       "    <tr style=\"text-align: right;\">\n",
       "      <th></th>\n",
       "      <th>cgpa</th>\n",
       "      <th>placement_exam_marks</th>\n",
       "      <th>placed</th>\n",
       "      <th>cgpa_z_score</th>\n",
       "    </tr>\n",
       "  </thead>\n",
       "  <tbody>\n",
       "    <tr>\n",
       "      <th>995</th>\n",
       "      <td>8.87</td>\n",
       "      <td>44.0</td>\n",
       "      <td>1</td>\n",
       "      <td>3.099150</td>\n",
       "    </tr>\n",
       "    <tr>\n",
       "      <th>996</th>\n",
       "      <td>9.12</td>\n",
       "      <td>65.0</td>\n",
       "      <td>1</td>\n",
       "      <td>3.505062</td>\n",
       "    </tr>\n",
       "  </tbody>\n",
       "</table>\n",
       "</div>"
      ],
      "text/plain": [
       "     cgpa  placement_exam_marks  placed  cgpa_z_score\n",
       "995  8.87                  44.0       1      3.099150\n",
       "996  9.12                  65.0       1      3.505062"
      ]
     },
     "execution_count": 16,
     "metadata": {},
     "output_type": "execute_result"
    }
   ],
   "source": [
    "# NOw check for outliers\n",
    "\n",
    "df[df['cgpa_z_score']>3]"
   ]
  },
  {
   "cell_type": "code",
   "execution_count": 17,
   "id": "6debcb3c",
   "metadata": {},
   "outputs": [
    {
     "data": {
      "text/html": [
       "<div>\n",
       "<style scoped>\n",
       "    .dataframe tbody tr th:only-of-type {\n",
       "        vertical-align: middle;\n",
       "    }\n",
       "\n",
       "    .dataframe tbody tr th {\n",
       "        vertical-align: top;\n",
       "    }\n",
       "\n",
       "    .dataframe thead th {\n",
       "        text-align: right;\n",
       "    }\n",
       "</style>\n",
       "<table border=\"1\" class=\"dataframe\">\n",
       "  <thead>\n",
       "    <tr style=\"text-align: right;\">\n",
       "      <th></th>\n",
       "      <th>cgpa</th>\n",
       "      <th>placement_exam_marks</th>\n",
       "      <th>placed</th>\n",
       "      <th>cgpa_z_score</th>\n",
       "    </tr>\n",
       "  </thead>\n",
       "  <tbody>\n",
       "    <tr>\n",
       "      <th>485</th>\n",
       "      <td>4.92</td>\n",
       "      <td>44.0</td>\n",
       "      <td>1</td>\n",
       "      <td>-3.314251</td>\n",
       "    </tr>\n",
       "    <tr>\n",
       "      <th>997</th>\n",
       "      <td>4.89</td>\n",
       "      <td>34.0</td>\n",
       "      <td>0</td>\n",
       "      <td>-3.362960</td>\n",
       "    </tr>\n",
       "    <tr>\n",
       "      <th>999</th>\n",
       "      <td>4.90</td>\n",
       "      <td>10.0</td>\n",
       "      <td>1</td>\n",
       "      <td>-3.346724</td>\n",
       "    </tr>\n",
       "  </tbody>\n",
       "</table>\n",
       "</div>"
      ],
      "text/plain": [
       "     cgpa  placement_exam_marks  placed  cgpa_z_score\n",
       "485  4.92                  44.0       1     -3.314251\n",
       "997  4.89                  34.0       0     -3.362960\n",
       "999  4.90                  10.0       1     -3.346724"
      ]
     },
     "execution_count": 17,
     "metadata": {},
     "output_type": "execute_result"
    }
   ],
   "source": [
    "df[df['cgpa_z_score'] < -3]"
   ]
  },
  {
   "cell_type": "code",
   "execution_count": 18,
   "id": "a1a44827",
   "metadata": {},
   "outputs": [
    {
     "data": {
      "text/html": [
       "<div>\n",
       "<style scoped>\n",
       "    .dataframe tbody tr th:only-of-type {\n",
       "        vertical-align: middle;\n",
       "    }\n",
       "\n",
       "    .dataframe tbody tr th {\n",
       "        vertical-align: top;\n",
       "    }\n",
       "\n",
       "    .dataframe thead th {\n",
       "        text-align: right;\n",
       "    }\n",
       "</style>\n",
       "<table border=\"1\" class=\"dataframe\">\n",
       "  <thead>\n",
       "    <tr style=\"text-align: right;\">\n",
       "      <th></th>\n",
       "      <th>cgpa</th>\n",
       "      <th>placement_exam_marks</th>\n",
       "      <th>placed</th>\n",
       "      <th>cgpa_z_score</th>\n",
       "    </tr>\n",
       "  </thead>\n",
       "  <tbody>\n",
       "    <tr>\n",
       "      <th>485</th>\n",
       "      <td>4.92</td>\n",
       "      <td>44.0</td>\n",
       "      <td>1</td>\n",
       "      <td>-3.314251</td>\n",
       "    </tr>\n",
       "    <tr>\n",
       "      <th>995</th>\n",
       "      <td>8.87</td>\n",
       "      <td>44.0</td>\n",
       "      <td>1</td>\n",
       "      <td>3.099150</td>\n",
       "    </tr>\n",
       "    <tr>\n",
       "      <th>996</th>\n",
       "      <td>9.12</td>\n",
       "      <td>65.0</td>\n",
       "      <td>1</td>\n",
       "      <td>3.505062</td>\n",
       "    </tr>\n",
       "    <tr>\n",
       "      <th>997</th>\n",
       "      <td>4.89</td>\n",
       "      <td>34.0</td>\n",
       "      <td>0</td>\n",
       "      <td>-3.362960</td>\n",
       "    </tr>\n",
       "    <tr>\n",
       "      <th>999</th>\n",
       "      <td>4.90</td>\n",
       "      <td>10.0</td>\n",
       "      <td>1</td>\n",
       "      <td>-3.346724</td>\n",
       "    </tr>\n",
       "  </tbody>\n",
       "</table>\n",
       "</div>"
      ],
      "text/plain": [
       "     cgpa  placement_exam_marks  placed  cgpa_z_score\n",
       "485  4.92                  44.0       1     -3.314251\n",
       "995  8.87                  44.0       1      3.099150\n",
       "996  9.12                  65.0       1      3.505062\n",
       "997  4.89                  34.0       0     -3.362960\n",
       "999  4.90                  10.0       1     -3.346724"
      ]
     },
     "execution_count": 18,
     "metadata": {},
     "output_type": "execute_result"
    }
   ],
   "source": [
    "new_dff = df[(df['cgpa_z_score'] > 3) | (df['cgpa_z_score'] < -3)]\n",
    "\n",
    "new_dff"
   ]
  },
  {
   "cell_type": "code",
   "execution_count": 19,
   "id": "d0dc46bd",
   "metadata": {},
   "outputs": [
    {
     "data": {
      "text/html": [
       "<div>\n",
       "<style scoped>\n",
       "    .dataframe tbody tr th:only-of-type {\n",
       "        vertical-align: middle;\n",
       "    }\n",
       "\n",
       "    .dataframe tbody tr th {\n",
       "        vertical-align: top;\n",
       "    }\n",
       "\n",
       "    .dataframe thead th {\n",
       "        text-align: right;\n",
       "    }\n",
       "</style>\n",
       "<table border=\"1\" class=\"dataframe\">\n",
       "  <thead>\n",
       "    <tr style=\"text-align: right;\">\n",
       "      <th></th>\n",
       "      <th>cgpa</th>\n",
       "      <th>placement_exam_marks</th>\n",
       "      <th>placed</th>\n",
       "      <th>cgpa_z_score</th>\n",
       "    </tr>\n",
       "  </thead>\n",
       "  <tbody>\n",
       "    <tr>\n",
       "      <th>0</th>\n",
       "      <td>7.19</td>\n",
       "      <td>26.0</td>\n",
       "      <td>1</td>\n",
       "      <td>0.371425</td>\n",
       "    </tr>\n",
       "    <tr>\n",
       "      <th>1</th>\n",
       "      <td>7.46</td>\n",
       "      <td>38.0</td>\n",
       "      <td>1</td>\n",
       "      <td>0.809810</td>\n",
       "    </tr>\n",
       "    <tr>\n",
       "      <th>2</th>\n",
       "      <td>7.54</td>\n",
       "      <td>40.0</td>\n",
       "      <td>1</td>\n",
       "      <td>0.939701</td>\n",
       "    </tr>\n",
       "    <tr>\n",
       "      <th>3</th>\n",
       "      <td>6.42</td>\n",
       "      <td>8.0</td>\n",
       "      <td>1</td>\n",
       "      <td>-0.878782</td>\n",
       "    </tr>\n",
       "    <tr>\n",
       "      <th>4</th>\n",
       "      <td>7.23</td>\n",
       "      <td>17.0</td>\n",
       "      <td>0</td>\n",
       "      <td>0.436371</td>\n",
       "    </tr>\n",
       "    <tr>\n",
       "      <th>...</th>\n",
       "      <td>...</td>\n",
       "      <td>...</td>\n",
       "      <td>...</td>\n",
       "      <td>...</td>\n",
       "    </tr>\n",
       "    <tr>\n",
       "      <th>991</th>\n",
       "      <td>7.04</td>\n",
       "      <td>57.0</td>\n",
       "      <td>0</td>\n",
       "      <td>0.127878</td>\n",
       "    </tr>\n",
       "    <tr>\n",
       "      <th>992</th>\n",
       "      <td>6.26</td>\n",
       "      <td>12.0</td>\n",
       "      <td>0</td>\n",
       "      <td>-1.138565</td>\n",
       "    </tr>\n",
       "    <tr>\n",
       "      <th>993</th>\n",
       "      <td>6.73</td>\n",
       "      <td>21.0</td>\n",
       "      <td>1</td>\n",
       "      <td>-0.375452</td>\n",
       "    </tr>\n",
       "    <tr>\n",
       "      <th>994</th>\n",
       "      <td>6.48</td>\n",
       "      <td>63.0</td>\n",
       "      <td>0</td>\n",
       "      <td>-0.781363</td>\n",
       "    </tr>\n",
       "    <tr>\n",
       "      <th>998</th>\n",
       "      <td>8.62</td>\n",
       "      <td>46.0</td>\n",
       "      <td>1</td>\n",
       "      <td>2.693239</td>\n",
       "    </tr>\n",
       "  </tbody>\n",
       "</table>\n",
       "<p>995 rows × 4 columns</p>\n",
       "</div>"
      ],
      "text/plain": [
       "     cgpa  placement_exam_marks  placed  cgpa_z_score\n",
       "0    7.19                  26.0       1      0.371425\n",
       "1    7.46                  38.0       1      0.809810\n",
       "2    7.54                  40.0       1      0.939701\n",
       "3    6.42                   8.0       1     -0.878782\n",
       "4    7.23                  17.0       0      0.436371\n",
       "..    ...                   ...     ...           ...\n",
       "991  7.04                  57.0       0      0.127878\n",
       "992  6.26                  12.0       0     -1.138565\n",
       "993  6.73                  21.0       1     -0.375452\n",
       "994  6.48                  63.0       0     -0.781363\n",
       "998  8.62                  46.0       1      2.693239\n",
       "\n",
       "[995 rows x 4 columns]"
      ]
     },
     "execution_count": 19,
     "metadata": {},
     "output_type": "execute_result"
    }
   ],
   "source": [
    "new_dff = df[(df['cgpa_z_score'] < 3) & (df['cgpa_z_score'] > -3)]\n",
    "\n",
    "new_dff"
   ]
  },
  {
   "cell_type": "code",
   "execution_count": 20,
   "id": "a68571fb",
   "metadata": {},
   "outputs": [
    {
     "data": {
      "text/plain": [
       "(995, 3)"
      ]
     },
     "execution_count": 20,
     "metadata": {},
     "output_type": "execute_result"
    }
   ],
   "source": [
    "new_df.shape"
   ]
  },
  {
   "cell_type": "markdown",
   "id": "5356cb49",
   "metadata": {},
   "source": [
    "<h1 style=\"color:green\">Capping</h1>"
   ]
  },
  {
   "cell_type": "code",
   "execution_count": 21,
   "id": "ffbe48a0",
   "metadata": {},
   "outputs": [
    {
     "data": {
      "text/plain": [
       "8.808933625397177"
      ]
     },
     "execution_count": 21,
     "metadata": {},
     "output_type": "execute_result"
    }
   ],
   "source": [
    "upper_limit = df['cgpa'].mean() + 3 * df['cgpa'].std()\n",
    "\n",
    "upper_limit"
   ]
  },
  {
   "cell_type": "code",
   "execution_count": 22,
   "id": "93373863",
   "metadata": {},
   "outputs": [
    {
     "data": {
      "text/plain": [
       "5.113546374602842"
      ]
     },
     "execution_count": 22,
     "metadata": {},
     "output_type": "execute_result"
    }
   ],
   "source": [
    "lower_limit = df['cgpa'].mean() - 3 * df['cgpa'].std()\n",
    "\n",
    "lower_limit"
   ]
  },
  {
   "cell_type": "code",
   "execution_count": 23,
   "id": "85bc1b6f",
   "metadata": {},
   "outputs": [],
   "source": [
    "df['cgpa_cap'] = np.where(\n",
    "    df['cgpa'] > upper_limit,\n",
    "    upper_limit,\n",
    "    np.where(\n",
    "    df['cgpa'] < lower_limit,\n",
    "        lower_limit,\n",
    "        df['cgpa']))"
   ]
  },
  {
   "cell_type": "code",
   "execution_count": 24,
   "id": "92a2dd12",
   "metadata": {},
   "outputs": [
    {
     "data": {
      "text/html": [
       "<style type=\"text/css\">\n",
       "#T_c8658_row0_col0, #T_c8658_row0_col3, #T_c8658_row0_col4, #T_c8658_row1_col1, #T_c8658_row2_col2 {\n",
       "  background-color: #023858;\n",
       "  color: #f1f1f1;\n",
       "}\n",
       "#T_c8658_row0_col1, #T_c8658_row0_col2, #T_c8658_row1_col2, #T_c8658_row3_col0, #T_c8658_row3_col2, #T_c8658_row3_col3, #T_c8658_row3_col4, #T_c8658_row4_col2 {\n",
       "  background-color: #fff7fb;\n",
       "  color: #000000;\n",
       "}\n",
       "#T_c8658_row1_col0, #T_c8658_row1_col3, #T_c8658_row1_col4 {\n",
       "  background-color: #f8f1f8;\n",
       "  color: #000000;\n",
       "}\n",
       "#T_c8658_row2_col0, #T_c8658_row2_col3, #T_c8658_row2_col4 {\n",
       "  background-color: #9ab8d8;\n",
       "  color: #000000;\n",
       "}\n",
       "#T_c8658_row2_col1 {\n",
       "  background-color: #04598c;\n",
       "  color: #f1f1f1;\n",
       "}\n",
       "#T_c8658_row3_col1 {\n",
       "  background-color: #88b1d4;\n",
       "  color: #000000;\n",
       "}\n",
       "#T_c8658_row4_col0, #T_c8658_row4_col3, #T_c8658_row4_col4 {\n",
       "  background-color: #1278b4;\n",
       "  color: #f1f1f1;\n",
       "}\n",
       "#T_c8658_row4_col1 {\n",
       "  background-color: #dbdaeb;\n",
       "  color: #000000;\n",
       "}\n",
       "</style>\n",
       "<table id=\"T_c8658\">\n",
       "  <thead>\n",
       "    <tr>\n",
       "      <th class=\"blank level0\" >&nbsp;</th>\n",
       "      <th id=\"T_c8658_level0_col0\" class=\"col_heading level0 col0\" >cgpa</th>\n",
       "      <th id=\"T_c8658_level0_col1\" class=\"col_heading level0 col1\" >placement_exam_marks</th>\n",
       "      <th id=\"T_c8658_level0_col2\" class=\"col_heading level0 col2\" >placed</th>\n",
       "      <th id=\"T_c8658_level0_col3\" class=\"col_heading level0 col3\" >cgpa_z_score</th>\n",
       "      <th id=\"T_c8658_level0_col4\" class=\"col_heading level0 col4\" >cgpa_cap</th>\n",
       "    </tr>\n",
       "  </thead>\n",
       "  <tbody>\n",
       "    <tr>\n",
       "      <th id=\"T_c8658_level0_row0\" class=\"row_heading level0 row0\" >55</th>\n",
       "      <td id=\"T_c8658_row0_col0\" class=\"data row0 col0\" >8.120000</td>\n",
       "      <td id=\"T_c8658_row0_col1\" class=\"data row0 col1\" >15.000000</td>\n",
       "      <td id=\"T_c8658_row0_col2\" class=\"data row0 col2\" >0</td>\n",
       "      <td id=\"T_c8658_row0_col3\" class=\"data row0 col3\" >1.881416</td>\n",
       "      <td id=\"T_c8658_row0_col4\" class=\"data row0 col4\" >8.120000</td>\n",
       "    </tr>\n",
       "    <tr>\n",
       "      <th id=\"T_c8658_level0_row1\" class=\"row_heading level0 row1\" >280</th>\n",
       "      <td id=\"T_c8658_row1_col0\" class=\"data row1 col0\" >6.620000</td>\n",
       "      <td id=\"T_c8658_row1_col1\" class=\"data row1 col1\" >55.000000</td>\n",
       "      <td id=\"T_c8658_row1_col2\" class=\"data row1 col2\" >0</td>\n",
       "      <td id=\"T_c8658_row1_col3\" class=\"data row1 col3\" >-0.554053</td>\n",
       "      <td id=\"T_c8658_row1_col4\" class=\"data row1 col4\" >6.620000</td>\n",
       "    </tr>\n",
       "    <tr>\n",
       "      <th id=\"T_c8658_level0_row2\" class=\"row_heading level0 row2\" >502</th>\n",
       "      <td id=\"T_c8658_row2_col0\" class=\"data row2 col0\" >7.180000</td>\n",
       "      <td id=\"T_c8658_row2_col1\" class=\"data row2 col1\" >50.000000</td>\n",
       "      <td id=\"T_c8658_row2_col2\" class=\"data row2 col2\" >1</td>\n",
       "      <td id=\"T_c8658_row2_col3\" class=\"data row2 col3\" >0.355189</td>\n",
       "      <td id=\"T_c8658_row2_col4\" class=\"data row2 col4\" >7.180000</td>\n",
       "    </tr>\n",
       "    <tr>\n",
       "      <th id=\"T_c8658_level0_row3\" class=\"row_heading level0 row3\" >574</th>\n",
       "      <td id=\"T_c8658_row3_col0\" class=\"data row3 col0\" >6.540000</td>\n",
       "      <td id=\"T_c8658_row3_col1\" class=\"data row3 col1\" >33.000000</td>\n",
       "      <td id=\"T_c8658_row3_col2\" class=\"data row3 col2\" >0</td>\n",
       "      <td id=\"T_c8658_row3_col3\" class=\"data row3 col3\" >-0.683945</td>\n",
       "      <td id=\"T_c8658_row3_col4\" class=\"data row3 col4\" >6.540000</td>\n",
       "    </tr>\n",
       "    <tr>\n",
       "      <th id=\"T_c8658_level0_row4\" class=\"row_heading level0 row4\" >777</th>\n",
       "      <td id=\"T_c8658_row4_col0\" class=\"data row4 col0\" >7.670000</td>\n",
       "      <td id=\"T_c8658_row4_col1\" class=\"data row4 col1\" >23.000000</td>\n",
       "      <td id=\"T_c8658_row4_col2\" class=\"data row4 col2\" >0</td>\n",
       "      <td id=\"T_c8658_row4_col3\" class=\"data row4 col3\" >1.150775</td>\n",
       "      <td id=\"T_c8658_row4_col4\" class=\"data row4 col4\" >7.670000</td>\n",
       "    </tr>\n",
       "  </tbody>\n",
       "</table>\n"
      ],
      "text/plain": [
       "<pandas.io.formats.style.Styler at 0x18d826e4070>"
      ]
     },
     "execution_count": 24,
     "metadata": {},
     "output_type": "execute_result"
    }
   ],
   "source": [
    "df.sample(5).style.background_gradient()"
   ]
  },
  {
   "cell_type": "code",
   "execution_count": 25,
   "id": "c3a622ca",
   "metadata": {},
   "outputs": [
    {
     "data": {
      "text/html": [
       "<style type=\"text/css\">\n",
       "#T_aebf2_row0_col0, #T_aebf2_row0_col1, #T_aebf2_row0_col2, #T_aebf2_row0_col3, #T_aebf2_row0_col4 {\n",
       "  background-color: #023858;\n",
       "  color: #f1f1f1;\n",
       "}\n",
       "#T_aebf2_row1_col0, #T_aebf2_row1_col4, #T_aebf2_row2_col3, #T_aebf2_row3_col0, #T_aebf2_row3_col4, #T_aebf2_row4_col0, #T_aebf2_row4_col4, #T_aebf2_row5_col0, #T_aebf2_row5_col4, #T_aebf2_row6_col0, #T_aebf2_row6_col3, #T_aebf2_row6_col4, #T_aebf2_row7_col3 {\n",
       "  background-color: #fef6fb;\n",
       "  color: #000000;\n",
       "}\n",
       "#T_aebf2_row1_col1 {\n",
       "  background-color: #faf3f9;\n",
       "  color: #000000;\n",
       "}\n",
       "#T_aebf2_row1_col2, #T_aebf2_row1_col3, #T_aebf2_row2_col0, #T_aebf2_row2_col2, #T_aebf2_row2_col4, #T_aebf2_row3_col1, #T_aebf2_row3_col2, #T_aebf2_row3_col3, #T_aebf2_row4_col2, #T_aebf2_row4_col3, #T_aebf2_row5_col2, #T_aebf2_row5_col3, #T_aebf2_row6_col2, #T_aebf2_row7_col2 {\n",
       "  background-color: #fff7fb;\n",
       "  color: #000000;\n",
       "}\n",
       "#T_aebf2_row2_col1, #T_aebf2_row4_col1 {\n",
       "  background-color: #fdf5fa;\n",
       "  color: #000000;\n",
       "}\n",
       "#T_aebf2_row5_col1 {\n",
       "  background-color: #fbf3f9;\n",
       "  color: #000000;\n",
       "}\n",
       "#T_aebf2_row6_col1 {\n",
       "  background-color: #f8f1f8;\n",
       "  color: #000000;\n",
       "}\n",
       "#T_aebf2_row7_col0, #T_aebf2_row7_col4 {\n",
       "  background-color: #fef6fa;\n",
       "  color: #000000;\n",
       "}\n",
       "#T_aebf2_row7_col1 {\n",
       "  background-color: #f0eaf4;\n",
       "  color: #000000;\n",
       "}\n",
       "</style>\n",
       "<table id=\"T_aebf2\">\n",
       "  <thead>\n",
       "    <tr>\n",
       "      <th class=\"blank level0\" >&nbsp;</th>\n",
       "      <th id=\"T_aebf2_level0_col0\" class=\"col_heading level0 col0\" >cgpa</th>\n",
       "      <th id=\"T_aebf2_level0_col1\" class=\"col_heading level0 col1\" >placement_exam_marks</th>\n",
       "      <th id=\"T_aebf2_level0_col2\" class=\"col_heading level0 col2\" >placed</th>\n",
       "      <th id=\"T_aebf2_level0_col3\" class=\"col_heading level0 col3\" >cgpa_z_score</th>\n",
       "      <th id=\"T_aebf2_level0_col4\" class=\"col_heading level0 col4\" >cgpa_cap</th>\n",
       "    </tr>\n",
       "  </thead>\n",
       "  <tbody>\n",
       "    <tr>\n",
       "      <th id=\"T_aebf2_level0_row0\" class=\"row_heading level0 row0\" >count</th>\n",
       "      <td id=\"T_aebf2_row0_col0\" class=\"data row0 col0\" >1000.000000</td>\n",
       "      <td id=\"T_aebf2_row0_col1\" class=\"data row0 col1\" >1000.000000</td>\n",
       "      <td id=\"T_aebf2_row0_col2\" class=\"data row0 col2\" >1000.000000</td>\n",
       "      <td id=\"T_aebf2_row0_col3\" class=\"data row0 col3\" >1000.000000</td>\n",
       "      <td id=\"T_aebf2_row0_col4\" class=\"data row0 col4\" >1000.000000</td>\n",
       "    </tr>\n",
       "    <tr>\n",
       "      <th id=\"T_aebf2_level0_row1\" class=\"row_heading level0 row1\" >mean</th>\n",
       "      <td id=\"T_aebf2_row1_col0\" class=\"data row1 col0\" >6.961240</td>\n",
       "      <td id=\"T_aebf2_row1_col1\" class=\"data row1 col1\" >32.225000</td>\n",
       "      <td id=\"T_aebf2_row1_col2\" class=\"data row1 col2\" >0.489000</td>\n",
       "      <td id=\"T_aebf2_row1_col3\" class=\"data row1 col3\" >-0.000000</td>\n",
       "      <td id=\"T_aebf2_row1_col4\" class=\"data row1 col4\" >6.961499</td>\n",
       "    </tr>\n",
       "    <tr>\n",
       "      <th id=\"T_aebf2_level0_row2\" class=\"row_heading level0 row2\" >std</th>\n",
       "      <td id=\"T_aebf2_row2_col0\" class=\"data row2 col0\" >0.615898</td>\n",
       "      <td id=\"T_aebf2_row2_col1\" class=\"data row2 col1\" >19.130822</td>\n",
       "      <td id=\"T_aebf2_row2_col2\" class=\"data row2 col2\" >0.500129</td>\n",
       "      <td id=\"T_aebf2_row2_col3\" class=\"data row2 col3\" >1.000000</td>\n",
       "      <td id=\"T_aebf2_row2_col4\" class=\"data row2 col4\" >0.612688</td>\n",
       "    </tr>\n",
       "    <tr>\n",
       "      <th id=\"T_aebf2_level0_row3\" class=\"row_heading level0 row3\" >min</th>\n",
       "      <td id=\"T_aebf2_row3_col0\" class=\"data row3 col0\" >4.890000</td>\n",
       "      <td id=\"T_aebf2_row3_col1\" class=\"data row3 col1\" >0.000000</td>\n",
       "      <td id=\"T_aebf2_row3_col2\" class=\"data row3 col2\" >0.000000</td>\n",
       "      <td id=\"T_aebf2_row3_col3\" class=\"data row3 col3\" >-3.362960</td>\n",
       "      <td id=\"T_aebf2_row3_col4\" class=\"data row3 col4\" >5.113546</td>\n",
       "    </tr>\n",
       "    <tr>\n",
       "      <th id=\"T_aebf2_level0_row4\" class=\"row_heading level0 row4\" >25%</th>\n",
       "      <td id=\"T_aebf2_row4_col0\" class=\"data row4 col0\" >6.550000</td>\n",
       "      <td id=\"T_aebf2_row4_col1\" class=\"data row4 col1\" >17.000000</td>\n",
       "      <td id=\"T_aebf2_row4_col2\" class=\"data row4 col2\" >0.000000</td>\n",
       "      <td id=\"T_aebf2_row4_col3\" class=\"data row4 col3\" >-0.667708</td>\n",
       "      <td id=\"T_aebf2_row4_col4\" class=\"data row4 col4\" >6.550000</td>\n",
       "    </tr>\n",
       "    <tr>\n",
       "      <th id=\"T_aebf2_level0_row5\" class=\"row_heading level0 row5\" >50%</th>\n",
       "      <td id=\"T_aebf2_row5_col0\" class=\"data row5 col0\" >6.960000</td>\n",
       "      <td id=\"T_aebf2_row5_col1\" class=\"data row5 col1\" >28.000000</td>\n",
       "      <td id=\"T_aebf2_row5_col2\" class=\"data row5 col2\" >0.000000</td>\n",
       "      <td id=\"T_aebf2_row5_col3\" class=\"data row5 col3\" >-0.002013</td>\n",
       "      <td id=\"T_aebf2_row5_col4\" class=\"data row5 col4\" >6.960000</td>\n",
       "    </tr>\n",
       "    <tr>\n",
       "      <th id=\"T_aebf2_level0_row6\" class=\"row_heading level0 row6\" >75%</th>\n",
       "      <td id=\"T_aebf2_row6_col0\" class=\"data row6 col0\" >7.370000</td>\n",
       "      <td id=\"T_aebf2_row6_col1\" class=\"data row6 col1\" >44.000000</td>\n",
       "      <td id=\"T_aebf2_row6_col2\" class=\"data row6 col2\" >1.000000</td>\n",
       "      <td id=\"T_aebf2_row6_col3\" class=\"data row6 col3\" >0.663681</td>\n",
       "      <td id=\"T_aebf2_row6_col4\" class=\"data row6 col4\" >7.370000</td>\n",
       "    </tr>\n",
       "    <tr>\n",
       "      <th id=\"T_aebf2_level0_row7\" class=\"row_heading level0 row7\" >max</th>\n",
       "      <td id=\"T_aebf2_row7_col0\" class=\"data row7 col0\" >9.120000</td>\n",
       "      <td id=\"T_aebf2_row7_col1\" class=\"data row7 col1\" >100.000000</td>\n",
       "      <td id=\"T_aebf2_row7_col2\" class=\"data row7 col2\" >1.000000</td>\n",
       "      <td id=\"T_aebf2_row7_col3\" class=\"data row7 col3\" >3.505062</td>\n",
       "      <td id=\"T_aebf2_row7_col4\" class=\"data row7 col4\" >8.808934</td>\n",
       "    </tr>\n",
       "  </tbody>\n",
       "</table>\n"
      ],
      "text/plain": [
       "<pandas.io.formats.style.Styler at 0x18d82700b20>"
      ]
     },
     "execution_count": 25,
     "metadata": {},
     "output_type": "execute_result"
    }
   ],
   "source": [
    "df.describe().style.background_gradient()"
   ]
  },
  {
   "cell_type": "code",
   "execution_count": 26,
   "id": "8c3c6722",
   "metadata": {},
   "outputs": [
    {
     "data": {
      "text/plain": [
       "0.8356419499466834"
      ]
     },
     "execution_count": 26,
     "metadata": {},
     "output_type": "execute_result"
    }
   ],
   "source": [
    "df['placement_exam_marks'].skew()"
   ]
  },
  {
   "cell_type": "code",
   "execution_count": 27,
   "id": "18396626",
   "metadata": {},
   "outputs": [
    {
     "data": {
      "text/html": [
       "<div>\n",
       "<style scoped>\n",
       "    .dataframe tbody tr th:only-of-type {\n",
       "        vertical-align: middle;\n",
       "    }\n",
       "\n",
       "    .dataframe tbody tr th {\n",
       "        vertical-align: top;\n",
       "    }\n",
       "\n",
       "    .dataframe thead th {\n",
       "        text-align: right;\n",
       "    }\n",
       "</style>\n",
       "<table border=\"1\" class=\"dataframe\">\n",
       "  <thead>\n",
       "    <tr style=\"text-align: right;\">\n",
       "      <th></th>\n",
       "      <th>cgpa</th>\n",
       "      <th>placement_exam_marks</th>\n",
       "      <th>placed</th>\n",
       "      <th>cgpa_z_score</th>\n",
       "      <th>cgpa_cap</th>\n",
       "    </tr>\n",
       "  </thead>\n",
       "  <tbody>\n",
       "    <tr>\n",
       "      <th>count</th>\n",
       "      <td>1000.000000</td>\n",
       "      <td>1000.000000</td>\n",
       "      <td>1000.000000</td>\n",
       "      <td>1.000000e+03</td>\n",
       "      <td>1000.000000</td>\n",
       "    </tr>\n",
       "    <tr>\n",
       "      <th>mean</th>\n",
       "      <td>6.961240</td>\n",
       "      <td>32.225000</td>\n",
       "      <td>0.489000</td>\n",
       "      <td>-1.600275e-14</td>\n",
       "      <td>6.961499</td>\n",
       "    </tr>\n",
       "    <tr>\n",
       "      <th>std</th>\n",
       "      <td>0.615898</td>\n",
       "      <td>19.130822</td>\n",
       "      <td>0.500129</td>\n",
       "      <td>1.000000e+00</td>\n",
       "      <td>0.612688</td>\n",
       "    </tr>\n",
       "    <tr>\n",
       "      <th>min</th>\n",
       "      <td>4.890000</td>\n",
       "      <td>0.000000</td>\n",
       "      <td>0.000000</td>\n",
       "      <td>-3.362960e+00</td>\n",
       "      <td>5.113546</td>\n",
       "    </tr>\n",
       "    <tr>\n",
       "      <th>25%</th>\n",
       "      <td>6.550000</td>\n",
       "      <td>17.000000</td>\n",
       "      <td>0.000000</td>\n",
       "      <td>-6.677081e-01</td>\n",
       "      <td>6.550000</td>\n",
       "    </tr>\n",
       "    <tr>\n",
       "      <th>50%</th>\n",
       "      <td>6.960000</td>\n",
       "      <td>28.000000</td>\n",
       "      <td>0.000000</td>\n",
       "      <td>-2.013321e-03</td>\n",
       "      <td>6.960000</td>\n",
       "    </tr>\n",
       "    <tr>\n",
       "      <th>75%</th>\n",
       "      <td>7.370000</td>\n",
       "      <td>44.000000</td>\n",
       "      <td>1.000000</td>\n",
       "      <td>6.636815e-01</td>\n",
       "      <td>7.370000</td>\n",
       "    </tr>\n",
       "    <tr>\n",
       "      <th>max</th>\n",
       "      <td>9.120000</td>\n",
       "      <td>100.000000</td>\n",
       "      <td>1.000000</td>\n",
       "      <td>3.505062e+00</td>\n",
       "      <td>8.808934</td>\n",
       "    </tr>\n",
       "  </tbody>\n",
       "</table>\n",
       "</div>"
      ],
      "text/plain": [
       "              cgpa  placement_exam_marks       placed  cgpa_z_score  \\\n",
       "count  1000.000000           1000.000000  1000.000000  1.000000e+03   \n",
       "mean      6.961240             32.225000     0.489000 -1.600275e-14   \n",
       "std       0.615898             19.130822     0.500129  1.000000e+00   \n",
       "min       4.890000              0.000000     0.000000 -3.362960e+00   \n",
       "25%       6.550000             17.000000     0.000000 -6.677081e-01   \n",
       "50%       6.960000             28.000000     0.000000 -2.013321e-03   \n",
       "75%       7.370000             44.000000     1.000000  6.636815e-01   \n",
       "max       9.120000            100.000000     1.000000  3.505062e+00   \n",
       "\n",
       "          cgpa_cap  \n",
       "count  1000.000000  \n",
       "mean      6.961499  \n",
       "std       0.612688  \n",
       "min       5.113546  \n",
       "25%       6.550000  \n",
       "50%       6.960000  \n",
       "75%       7.370000  \n",
       "max       8.808934  "
      ]
     },
     "execution_count": 27,
     "metadata": {},
     "output_type": "execute_result"
    }
   ],
   "source": [
    "df.describe()"
   ]
  },
  {
   "cell_type": "code",
   "execution_count": 28,
   "id": "85ad7a39",
   "metadata": {},
   "outputs": [
    {
     "data": {
      "image/png": "[encoded data removed]",
      "text/plain": [
       "<Figure size 1152x576 with 4 Axes>"
      ]
     },
     "metadata": {
      "needs_background": "light"
     },
     "output_type": "display_data"
    }
   ],
   "source": [
    "plt.figure(figsize=(16,8))\n",
    "\n",
    "plt.subplot(2,2,1)\n",
    "sns.distplot(df['placement_exam_marks'])\n",
    "\n",
    "plt.subplot(2,2,2)\n",
    "sns.distplot(df['placement_exam_marks'])\n",
    "\n",
    "plt.subplot(2,2,3)\n",
    "sns.distplot(new_df['placement_exam_marks'], color = \"orange\")\n",
    "\n",
    "plt.subplot(2,2,4)\n",
    "sns.distplot(new_df['placement_exam_marks'], color = \"orange\")\n",
    "\n",
    "plt.show()"
   ]
  },
  {
   "cell_type": "markdown",
   "id": "2357dc33",
   "metadata": {},
   "source": [
    "<h1 style=\"color:green\">Capping on skewed data.</h1>"
   ]
  },
  {
   "cell_type": "code",
   "execution_count": 29,
   "id": "0494d9fe",
   "metadata": {},
   "outputs": [
    {
     "data": {
      "text/plain": [
       "0.8356419499466834"
      ]
     },
     "execution_count": 29,
     "metadata": {},
     "output_type": "execute_result"
    }
   ],
   "source": [
    "# we use it on skewed data.\n",
    "\n",
    "df['placement_exam_marks'].skew()"
   ]
  },
  {
   "cell_type": "code",
   "execution_count": 30,
   "id": "a2a8c487",
   "metadata": {},
   "outputs": [
    {
     "data": {
      "text/plain": [
       "-0.014529938929314918"
      ]
     },
     "execution_count": 30,
     "metadata": {},
     "output_type": "execute_result"
    }
   ],
   "source": [
    "# data which is normally distributed.\n",
    "\n",
    "df['cgpa'].skew()"
   ]
  },
  {
   "cell_type": "code",
   "execution_count": 31,
   "id": "0f2d4800",
   "metadata": {},
   "outputs": [
    {
     "data": {
      "text/plain": [
       "<AxesSubplot:xlabel='placement_exam_marks'>"
      ]
     },
     "execution_count": 31,
     "metadata": {},
     "output_type": "execute_result"
    },
    {
     "data": {
      "image/png": "[encoded data removed]",
      "text/plain": [
       "<Figure size 432x288 with 1 Axes>"
      ]
     },
     "metadata": {
      "needs_background": "light"
     },
     "output_type": "display_data"
    }
   ],
   "source": [
    "sns.boxplot(df['placement_exam_marks'], color = \"cyan\")"
   ]
  },
  {
   "cell_type": "code",
   "execution_count": 32,
   "id": "4612d856",
   "metadata": {},
   "outputs": [],
   "source": [
    "q1, q2, q3 = df['placement_exam_marks'].describe()[[\"25%\",\"50%\",\"75%\"]]"
   ]
  },
  {
   "cell_type": "code",
   "execution_count": 33,
   "id": "cc480a1e",
   "metadata": {},
   "outputs": [
    {
     "data": {
      "text/plain": [
       "17.0"
      ]
     },
     "execution_count": 33,
     "metadata": {},
     "output_type": "execute_result"
    }
   ],
   "source": [
    "q1"
   ]
  },
  {
   "cell_type": "code",
   "execution_count": 34,
   "id": "475abc07",
   "metadata": {},
   "outputs": [
    {
     "data": {
      "text/plain": [
       "28.0"
      ]
     },
     "execution_count": 34,
     "metadata": {},
     "output_type": "execute_result"
    }
   ],
   "source": [
    "q2"
   ]
  },
  {
   "cell_type": "code",
   "execution_count": 35,
   "id": "1b5cfcf2",
   "metadata": {},
   "outputs": [
    {
     "data": {
      "text/plain": [
       "44.0"
      ]
     },
     "execution_count": 35,
     "metadata": {},
     "output_type": "execute_result"
    }
   ],
   "source": [
    "q3"
   ]
  },
  {
   "cell_type": "code",
   "execution_count": 36,
   "id": "5f246a22",
   "metadata": {},
   "outputs": [
    {
     "data": {
      "text/plain": [
       "27.0"
      ]
     },
     "execution_count": 36,
     "metadata": {},
     "output_type": "execute_result"
    }
   ],
   "source": [
    "iqr = q3 - q1\n",
    "\n",
    "iqr"
   ]
  },
  {
   "cell_type": "code",
   "execution_count": 37,
   "id": "ba9e32a4",
   "metadata": {},
   "outputs": [
    {
     "data": {
      "text/plain": [
       "84.5"
      ]
     },
     "execution_count": 37,
     "metadata": {},
     "output_type": "execute_result"
    }
   ],
   "source": [
    "upper_limit = q3 + 1.5 * iqr\n",
    "\n",
    "upper_limit"
   ]
  },
  {
   "cell_type": "code",
   "execution_count": 38,
   "id": "f9162f98",
   "metadata": {},
   "outputs": [
    {
     "data": {
      "text/plain": [
       "-23.5"
      ]
     },
     "execution_count": 38,
     "metadata": {},
     "output_type": "execute_result"
    }
   ],
   "source": [
    "lower_limit = q1 - 1.5 * iqr\n",
    "\n",
    "lower_limit"
   ]
  },
  {
   "cell_type": "code",
   "execution_count": 39,
   "id": "513cfa5b",
   "metadata": {},
   "outputs": [
    {
     "data": {
      "text/html": [
       "<div>\n",
       "<style scoped>\n",
       "    .dataframe tbody tr th:only-of-type {\n",
       "        vertical-align: middle;\n",
       "    }\n",
       "\n",
       "    .dataframe tbody tr th {\n",
       "        vertical-align: top;\n",
       "    }\n",
       "\n",
       "    .dataframe thead th {\n",
       "        text-align: right;\n",
       "    }\n",
       "</style>\n",
       "<table border=\"1\" class=\"dataframe\">\n",
       "  <thead>\n",
       "    <tr style=\"text-align: right;\">\n",
       "      <th></th>\n",
       "      <th>cgpa</th>\n",
       "      <th>placement_exam_marks</th>\n",
       "      <th>placed</th>\n",
       "      <th>cgpa_z_score</th>\n",
       "      <th>cgpa_cap</th>\n",
       "    </tr>\n",
       "  </thead>\n",
       "  <tbody>\n",
       "    <tr>\n",
       "      <th>9</th>\n",
       "      <td>7.75</td>\n",
       "      <td>94.0</td>\n",
       "      <td>1</td>\n",
       "      <td>1.280667</td>\n",
       "      <td>7.75</td>\n",
       "    </tr>\n",
       "    <tr>\n",
       "      <th>40</th>\n",
       "      <td>6.60</td>\n",
       "      <td>86.0</td>\n",
       "      <td>1</td>\n",
       "      <td>-0.586526</td>\n",
       "      <td>6.60</td>\n",
       "    </tr>\n",
       "    <tr>\n",
       "      <th>61</th>\n",
       "      <td>7.51</td>\n",
       "      <td>86.0</td>\n",
       "      <td>0</td>\n",
       "      <td>0.890992</td>\n",
       "      <td>7.51</td>\n",
       "    </tr>\n",
       "    <tr>\n",
       "      <th>134</th>\n",
       "      <td>6.33</td>\n",
       "      <td>93.0</td>\n",
       "      <td>0</td>\n",
       "      <td>-1.024910</td>\n",
       "      <td>6.33</td>\n",
       "    </tr>\n",
       "    <tr>\n",
       "      <th>162</th>\n",
       "      <td>7.80</td>\n",
       "      <td>90.0</td>\n",
       "      <td>0</td>\n",
       "      <td>1.361849</td>\n",
       "      <td>7.80</td>\n",
       "    </tr>\n",
       "    <tr>\n",
       "      <th>283</th>\n",
       "      <td>7.09</td>\n",
       "      <td>87.0</td>\n",
       "      <td>0</td>\n",
       "      <td>0.209061</td>\n",
       "      <td>7.09</td>\n",
       "    </tr>\n",
       "    <tr>\n",
       "      <th>290</th>\n",
       "      <td>8.38</td>\n",
       "      <td>87.0</td>\n",
       "      <td>0</td>\n",
       "      <td>2.303564</td>\n",
       "      <td>8.38</td>\n",
       "    </tr>\n",
       "    <tr>\n",
       "      <th>311</th>\n",
       "      <td>6.97</td>\n",
       "      <td>87.0</td>\n",
       "      <td>1</td>\n",
       "      <td>0.014223</td>\n",
       "      <td>6.97</td>\n",
       "    </tr>\n",
       "    <tr>\n",
       "      <th>324</th>\n",
       "      <td>6.64</td>\n",
       "      <td>90.0</td>\n",
       "      <td>0</td>\n",
       "      <td>-0.521580</td>\n",
       "      <td>6.64</td>\n",
       "    </tr>\n",
       "    <tr>\n",
       "      <th>630</th>\n",
       "      <td>6.56</td>\n",
       "      <td>96.0</td>\n",
       "      <td>1</td>\n",
       "      <td>-0.651472</td>\n",
       "      <td>6.56</td>\n",
       "    </tr>\n",
       "    <tr>\n",
       "      <th>685</th>\n",
       "      <td>6.05</td>\n",
       "      <td>87.0</td>\n",
       "      <td>1</td>\n",
       "      <td>-1.479531</td>\n",
       "      <td>6.05</td>\n",
       "    </tr>\n",
       "    <tr>\n",
       "      <th>730</th>\n",
       "      <td>6.14</td>\n",
       "      <td>90.0</td>\n",
       "      <td>1</td>\n",
       "      <td>-1.333403</td>\n",
       "      <td>6.14</td>\n",
       "    </tr>\n",
       "    <tr>\n",
       "      <th>771</th>\n",
       "      <td>7.31</td>\n",
       "      <td>86.0</td>\n",
       "      <td>1</td>\n",
       "      <td>0.566263</td>\n",
       "      <td>7.31</td>\n",
       "    </tr>\n",
       "    <tr>\n",
       "      <th>846</th>\n",
       "      <td>6.99</td>\n",
       "      <td>97.0</td>\n",
       "      <td>0</td>\n",
       "      <td>0.046696</td>\n",
       "      <td>6.99</td>\n",
       "    </tr>\n",
       "    <tr>\n",
       "      <th>917</th>\n",
       "      <td>5.95</td>\n",
       "      <td>100.0</td>\n",
       "      <td>0</td>\n",
       "      <td>-1.641896</td>\n",
       "      <td>5.95</td>\n",
       "    </tr>\n",
       "  </tbody>\n",
       "</table>\n",
       "</div>"
      ],
      "text/plain": [
       "     cgpa  placement_exam_marks  placed  cgpa_z_score  cgpa_cap\n",
       "9    7.75                  94.0       1      1.280667      7.75\n",
       "40   6.60                  86.0       1     -0.586526      6.60\n",
       "61   7.51                  86.0       0      0.890992      7.51\n",
       "134  6.33                  93.0       0     -1.024910      6.33\n",
       "162  7.80                  90.0       0      1.361849      7.80\n",
       "283  7.09                  87.0       0      0.209061      7.09\n",
       "290  8.38                  87.0       0      2.303564      8.38\n",
       "311  6.97                  87.0       1      0.014223      6.97\n",
       "324  6.64                  90.0       0     -0.521580      6.64\n",
       "630  6.56                  96.0       1     -0.651472      6.56\n",
       "685  6.05                  87.0       1     -1.479531      6.05\n",
       "730  6.14                  90.0       1     -1.333403      6.14\n",
       "771  7.31                  86.0       1      0.566263      7.31\n",
       "846  6.99                  97.0       0      0.046696      6.99\n",
       "917  5.95                 100.0       0     -1.641896      5.95"
      ]
     },
     "execution_count": 39,
     "metadata": {},
     "output_type": "execute_result"
    }
   ],
   "source": [
    "# outliers\n",
    "\n",
    "df[df['placement_exam_marks'] > upper_limit]"
   ]
  },
  {
   "cell_type": "code",
   "execution_count": 40,
   "id": "dbff815d",
   "metadata": {},
   "outputs": [
    {
     "data": {
      "text/plain": [
       "(15, 5)"
      ]
     },
     "execution_count": 40,
     "metadata": {},
     "output_type": "execute_result"
    }
   ],
   "source": [
    "df[df['placement_exam_marks'] > upper_limit].shape"
   ]
  },
  {
   "cell_type": "code",
   "execution_count": 41,
   "id": "c93f2086",
   "metadata": {},
   "outputs": [
    {
     "data": {
      "text/plain": [
       "(0, 5)"
      ]
     },
     "execution_count": 41,
     "metadata": {},
     "output_type": "execute_result"
    }
   ],
   "source": [
    "df[df['placement_exam_marks'] < lower_limit].shape"
   ]
  },
  {
   "cell_type": "markdown",
   "id": "7183fd92",
   "metadata": {},
   "source": [
    "<h1 style=\"color:green\">Trimming</h1>"
   ]
  },
  {
   "cell_type": "code",
   "execution_count": 42,
   "id": "0016657e",
   "metadata": {},
   "outputs": [
    {
     "data": {
      "text/html": [
       "<div>\n",
       "<style scoped>\n",
       "    .dataframe tbody tr th:only-of-type {\n",
       "        vertical-align: middle;\n",
       "    }\n",
       "\n",
       "    .dataframe tbody tr th {\n",
       "        vertical-align: top;\n",
       "    }\n",
       "\n",
       "    .dataframe thead th {\n",
       "        text-align: right;\n",
       "    }\n",
       "</style>\n",
       "<table border=\"1\" class=\"dataframe\">\n",
       "  <thead>\n",
       "    <tr style=\"text-align: right;\">\n",
       "      <th></th>\n",
       "      <th>cgpa</th>\n",
       "      <th>placement_exam_marks</th>\n",
       "      <th>placed</th>\n",
       "      <th>cgpa_z_score</th>\n",
       "      <th>cgpa_cap</th>\n",
       "    </tr>\n",
       "  </thead>\n",
       "  <tbody>\n",
       "    <tr>\n",
       "      <th>0</th>\n",
       "      <td>7.19</td>\n",
       "      <td>26.0</td>\n",
       "      <td>1</td>\n",
       "      <td>0.371425</td>\n",
       "      <td>7.19</td>\n",
       "    </tr>\n",
       "    <tr>\n",
       "      <th>1</th>\n",
       "      <td>7.46</td>\n",
       "      <td>38.0</td>\n",
       "      <td>1</td>\n",
       "      <td>0.809810</td>\n",
       "      <td>7.46</td>\n",
       "    </tr>\n",
       "    <tr>\n",
       "      <th>2</th>\n",
       "      <td>7.54</td>\n",
       "      <td>40.0</td>\n",
       "      <td>1</td>\n",
       "      <td>0.939701</td>\n",
       "      <td>7.54</td>\n",
       "    </tr>\n",
       "    <tr>\n",
       "      <th>3</th>\n",
       "      <td>6.42</td>\n",
       "      <td>8.0</td>\n",
       "      <td>1</td>\n",
       "      <td>-0.878782</td>\n",
       "      <td>6.42</td>\n",
       "    </tr>\n",
       "    <tr>\n",
       "      <th>4</th>\n",
       "      <td>7.23</td>\n",
       "      <td>17.0</td>\n",
       "      <td>0</td>\n",
       "      <td>0.436371</td>\n",
       "      <td>7.23</td>\n",
       "    </tr>\n",
       "  </tbody>\n",
       "</table>\n",
       "</div>"
      ],
      "text/plain": [
       "   cgpa  placement_exam_marks  placed  cgpa_z_score  cgpa_cap\n",
       "0  7.19                  26.0       1      0.371425      7.19\n",
       "1  7.46                  38.0       1      0.809810      7.46\n",
       "2  7.54                  40.0       1      0.939701      7.54\n",
       "3  6.42                   8.0       1     -0.878782      6.42\n",
       "4  7.23                  17.0       0      0.436371      7.23"
      ]
     },
     "execution_count": 42,
     "metadata": {},
     "output_type": "execute_result"
    }
   ],
   "source": [
    "new_dff = df[df['placement_exam_marks'] < upper_limit]\n",
    "\n",
    "new_dff.head()"
   ]
  },
  {
   "cell_type": "code",
   "execution_count": 43,
   "id": "ddcedfb2",
   "metadata": {},
   "outputs": [
    {
     "data": {
      "text/plain": [
       "(985, 5)"
      ]
     },
     "execution_count": 43,
     "metadata": {},
     "output_type": "execute_result"
    }
   ],
   "source": [
    "new_dff.shape"
   ]
  },
  {
   "cell_type": "code",
   "execution_count": 44,
   "id": "8d6e174f",
   "metadata": {},
   "outputs": [
    {
     "data": {
      "text/plain": [
       "(1000, 5)"
      ]
     },
     "execution_count": 44,
     "metadata": {},
     "output_type": "execute_result"
    }
   ],
   "source": [
    "df.shape"
   ]
  },
  {
   "cell_type": "code",
   "execution_count": 45,
   "id": "9aad1a4f",
   "metadata": {},
   "outputs": [
    {
     "data": {
      "image/png": "[encoded data removed]",
      "text/plain": [
       "<Figure size 1152x576 with 4 Axes>"
      ]
     },
     "metadata": {
      "needs_background": "light"
     },
     "output_type": "display_data"
    }
   ],
   "source": [
    "plt.figure(figsize=(16,8))\n",
    "\n",
    "plt.subplot(2,2,1)\n",
    "sns.distplot(df['placement_exam_marks'])\n",
    "\n",
    "plt.subplot(2,2,2)\n",
    "sns.boxplot(df['placement_exam_marks'])\n",
    "\n",
    "plt.subplot(2,2,3)\n",
    "sns.distplot(new_dff['placement_exam_marks'], color = \"orange\")\n",
    "\n",
    "plt.subplot(2,2,4)\n",
    "sns.boxplot(new_dff['placement_exam_marks'], color = \"orange\")\n",
    "\n",
    "plt.show()"
   ]
  },
  {
   "cell_type": "code",
   "execution_count": 46,
   "id": "bdebb147",
   "metadata": {},
   "outputs": [
    {
     "data": {
      "text/html": [
       "<div>\n",
       "<style scoped>\n",
       "    .dataframe tbody tr th:only-of-type {\n",
       "        vertical-align: middle;\n",
       "    }\n",
       "\n",
       "    .dataframe tbody tr th {\n",
       "        vertical-align: top;\n",
       "    }\n",
       "\n",
       "    .dataframe thead th {\n",
       "        text-align: right;\n",
       "    }\n",
       "</style>\n",
       "<table border=\"1\" class=\"dataframe\">\n",
       "  <thead>\n",
       "    <tr style=\"text-align: right;\">\n",
       "      <th></th>\n",
       "      <th>cgpa</th>\n",
       "      <th>placement_exam_marks</th>\n",
       "      <th>placed</th>\n",
       "      <th>cgpa_z_score</th>\n",
       "      <th>cgpa_cap</th>\n",
       "    </tr>\n",
       "  </thead>\n",
       "  <tbody>\n",
       "    <tr>\n",
       "      <th>9</th>\n",
       "      <td>7.75</td>\n",
       "      <td>94.0</td>\n",
       "      <td>1</td>\n",
       "      <td>1.280667</td>\n",
       "      <td>7.75</td>\n",
       "    </tr>\n",
       "    <tr>\n",
       "      <th>40</th>\n",
       "      <td>6.60</td>\n",
       "      <td>86.0</td>\n",
       "      <td>1</td>\n",
       "      <td>-0.586526</td>\n",
       "      <td>6.60</td>\n",
       "    </tr>\n",
       "    <tr>\n",
       "      <th>61</th>\n",
       "      <td>7.51</td>\n",
       "      <td>86.0</td>\n",
       "      <td>0</td>\n",
       "      <td>0.890992</td>\n",
       "      <td>7.51</td>\n",
       "    </tr>\n",
       "    <tr>\n",
       "      <th>134</th>\n",
       "      <td>6.33</td>\n",
       "      <td>93.0</td>\n",
       "      <td>0</td>\n",
       "      <td>-1.024910</td>\n",
       "      <td>6.33</td>\n",
       "    </tr>\n",
       "    <tr>\n",
       "      <th>162</th>\n",
       "      <td>7.80</td>\n",
       "      <td>90.0</td>\n",
       "      <td>0</td>\n",
       "      <td>1.361849</td>\n",
       "      <td>7.80</td>\n",
       "    </tr>\n",
       "    <tr>\n",
       "      <th>283</th>\n",
       "      <td>7.09</td>\n",
       "      <td>87.0</td>\n",
       "      <td>0</td>\n",
       "      <td>0.209061</td>\n",
       "      <td>7.09</td>\n",
       "    </tr>\n",
       "    <tr>\n",
       "      <th>290</th>\n",
       "      <td>8.38</td>\n",
       "      <td>87.0</td>\n",
       "      <td>0</td>\n",
       "      <td>2.303564</td>\n",
       "      <td>8.38</td>\n",
       "    </tr>\n",
       "    <tr>\n",
       "      <th>311</th>\n",
       "      <td>6.97</td>\n",
       "      <td>87.0</td>\n",
       "      <td>1</td>\n",
       "      <td>0.014223</td>\n",
       "      <td>6.97</td>\n",
       "    </tr>\n",
       "    <tr>\n",
       "      <th>324</th>\n",
       "      <td>6.64</td>\n",
       "      <td>90.0</td>\n",
       "      <td>0</td>\n",
       "      <td>-0.521580</td>\n",
       "      <td>6.64</td>\n",
       "    </tr>\n",
       "    <tr>\n",
       "      <th>630</th>\n",
       "      <td>6.56</td>\n",
       "      <td>96.0</td>\n",
       "      <td>1</td>\n",
       "      <td>-0.651472</td>\n",
       "      <td>6.56</td>\n",
       "    </tr>\n",
       "    <tr>\n",
       "      <th>685</th>\n",
       "      <td>6.05</td>\n",
       "      <td>87.0</td>\n",
       "      <td>1</td>\n",
       "      <td>-1.479531</td>\n",
       "      <td>6.05</td>\n",
       "    </tr>\n",
       "    <tr>\n",
       "      <th>730</th>\n",
       "      <td>6.14</td>\n",
       "      <td>90.0</td>\n",
       "      <td>1</td>\n",
       "      <td>-1.333403</td>\n",
       "      <td>6.14</td>\n",
       "    </tr>\n",
       "    <tr>\n",
       "      <th>771</th>\n",
       "      <td>7.31</td>\n",
       "      <td>86.0</td>\n",
       "      <td>1</td>\n",
       "      <td>0.566263</td>\n",
       "      <td>7.31</td>\n",
       "    </tr>\n",
       "    <tr>\n",
       "      <th>846</th>\n",
       "      <td>6.99</td>\n",
       "      <td>97.0</td>\n",
       "      <td>0</td>\n",
       "      <td>0.046696</td>\n",
       "      <td>6.99</td>\n",
       "    </tr>\n",
       "    <tr>\n",
       "      <th>917</th>\n",
       "      <td>5.95</td>\n",
       "      <td>100.0</td>\n",
       "      <td>0</td>\n",
       "      <td>-1.641896</td>\n",
       "      <td>5.95</td>\n",
       "    </tr>\n",
       "  </tbody>\n",
       "</table>\n",
       "</div>"
      ],
      "text/plain": [
       "     cgpa  placement_exam_marks  placed  cgpa_z_score  cgpa_cap\n",
       "9    7.75                  94.0       1      1.280667      7.75\n",
       "40   6.60                  86.0       1     -0.586526      6.60\n",
       "61   7.51                  86.0       0      0.890992      7.51\n",
       "134  6.33                  93.0       0     -1.024910      6.33\n",
       "162  7.80                  90.0       0      1.361849      7.80\n",
       "283  7.09                  87.0       0      0.209061      7.09\n",
       "290  8.38                  87.0       0      2.303564      8.38\n",
       "311  6.97                  87.0       1      0.014223      6.97\n",
       "324  6.64                  90.0       0     -0.521580      6.64\n",
       "630  6.56                  96.0       1     -0.651472      6.56\n",
       "685  6.05                  87.0       1     -1.479531      6.05\n",
       "730  6.14                  90.0       1     -1.333403      6.14\n",
       "771  7.31                  86.0       1      0.566263      7.31\n",
       "846  6.99                  97.0       0      0.046696      6.99\n",
       "917  5.95                 100.0       0     -1.641896      5.95"
      ]
     },
     "execution_count": 46,
     "metadata": {},
     "output_type": "execute_result"
    }
   ],
   "source": [
    "df_new1 = df[df['placement_exam_marks'] > upper_limit]\n",
    "\n",
    "df_new1"
   ]
  },
  {
   "cell_type": "markdown",
   "id": "6cfd153a",
   "metadata": {},
   "source": [
    "<h1 style=\"color:green\">Capping</h1>"
   ]
  },
  {
   "cell_type": "code",
   "execution_count": 47,
   "id": "0b57200f",
   "metadata": {},
   "outputs": [],
   "source": [
    "new_dff_cap = df.copy()\n",
    "\n",
    "new_dff_cap['placement_exam_marks'] = np.where(\n",
    "    new_dff_cap['placement_exam_marks'] > upper_limit,\n",
    "    upper_limit,\n",
    "    np.where(\n",
    "        new_dff_cap['placement_exam_marks'] < lower_limit,\n",
    "        lower_limit,\n",
    "        new_dff_cap['placement_exam_marks']\n",
    "    )\n",
    ")"
   ]
  },
  {
   "cell_type": "code",
   "execution_count": 48,
   "id": "f4af5ecb",
   "metadata": {},
   "outputs": [
    {
     "data": {
      "text/html": [
       "<div>\n",
       "<style scoped>\n",
       "    .dataframe tbody tr th:only-of-type {\n",
       "        vertical-align: middle;\n",
       "    }\n",
       "\n",
       "    .dataframe tbody tr th {\n",
       "        vertical-align: top;\n",
       "    }\n",
       "\n",
       "    .dataframe thead th {\n",
       "        text-align: right;\n",
       "    }\n",
       "</style>\n",
       "<table border=\"1\" class=\"dataframe\">\n",
       "  <thead>\n",
       "    <tr style=\"text-align: right;\">\n",
       "      <th></th>\n",
       "      <th>cgpa</th>\n",
       "      <th>placement_exam_marks</th>\n",
       "      <th>placed</th>\n",
       "      <th>cgpa_z_score</th>\n",
       "      <th>cgpa_cap</th>\n",
       "    </tr>\n",
       "  </thead>\n",
       "  <tbody>\n",
       "    <tr>\n",
       "      <th>0</th>\n",
       "      <td>7.19</td>\n",
       "      <td>26.0</td>\n",
       "      <td>1</td>\n",
       "      <td>0.371425</td>\n",
       "      <td>7.19</td>\n",
       "    </tr>\n",
       "    <tr>\n",
       "      <th>1</th>\n",
       "      <td>7.46</td>\n",
       "      <td>38.0</td>\n",
       "      <td>1</td>\n",
       "      <td>0.809810</td>\n",
       "      <td>7.46</td>\n",
       "    </tr>\n",
       "    <tr>\n",
       "      <th>2</th>\n",
       "      <td>7.54</td>\n",
       "      <td>40.0</td>\n",
       "      <td>1</td>\n",
       "      <td>0.939701</td>\n",
       "      <td>7.54</td>\n",
       "    </tr>\n",
       "    <tr>\n",
       "      <th>3</th>\n",
       "      <td>6.42</td>\n",
       "      <td>8.0</td>\n",
       "      <td>1</td>\n",
       "      <td>-0.878782</td>\n",
       "      <td>6.42</td>\n",
       "    </tr>\n",
       "    <tr>\n",
       "      <th>4</th>\n",
       "      <td>7.23</td>\n",
       "      <td>17.0</td>\n",
       "      <td>0</td>\n",
       "      <td>0.436371</td>\n",
       "      <td>7.23</td>\n",
       "    </tr>\n",
       "  </tbody>\n",
       "</table>\n",
       "</div>"
      ],
      "text/plain": [
       "   cgpa  placement_exam_marks  placed  cgpa_z_score  cgpa_cap\n",
       "0  7.19                  26.0       1      0.371425      7.19\n",
       "1  7.46                  38.0       1      0.809810      7.46\n",
       "2  7.54                  40.0       1      0.939701      7.54\n",
       "3  6.42                   8.0       1     -0.878782      6.42\n",
       "4  7.23                  17.0       0      0.436371      7.23"
      ]
     },
     "execution_count": 48,
     "metadata": {},
     "output_type": "execute_result"
    }
   ],
   "source": [
    "new_dff_cap.head()"
   ]
  },
  {
   "cell_type": "code",
   "execution_count": 49,
   "id": "726feb2e",
   "metadata": {},
   "outputs": [
    {
     "data": {
      "text/plain": [
       "(1000, 5)"
      ]
     },
     "execution_count": 49,
     "metadata": {},
     "output_type": "execute_result"
    }
   ],
   "source": [
    "new_dff_cap.shape"
   ]
  },
  {
   "cell_type": "code",
   "execution_count": 50,
   "id": "fcb7479d",
   "metadata": {},
   "outputs": [
    {
     "data": {
      "image/png": "[encoded data removed]",
      "text/plain": [
       "<Figure size 1152x576 with 4 Axes>"
      ]
     },
     "metadata": {
      "needs_background": "light"
     },
     "output_type": "display_data"
    }
   ],
   "source": [
    "plt.figure(figsize=(16,8))\n",
    "\n",
    "plt.subplot(2,2,1)\n",
    "sns.distplot(df['placement_exam_marks'])\n",
    "\n",
    "plt.subplot(2,2,2)\n",
    "sns.boxplot(df['placement_exam_marks'])\n",
    "\n",
    "plt.subplot(2,2,3)\n",
    "sns.distplot(new_dff_cap['placement_exam_marks'], color = \"orange\")\n",
    "\n",
    "plt.subplot(2,2,4)\n",
    "sns.boxplot(new_dff_cap['placement_exam_marks'], color = \"orange\")\n",
    "\n",
    "plt.show()"
   ]
  },
  {
   "cell_type": "code",
   "execution_count": null,
   "id": "aea15bda",
   "metadata": {},
   "outputs": [],
   "source": []
  }
 ],
 "metadata": {
  "kernelspec": {
   "display_name": "Python 3 (ipykernel)",
   "language": "python",
   "name": "python3"
  },
  "language_info": {
   "codemirror_mode": {
    "name": "ipython",
    "version": 3
   },
   "file_extension": ".py",
   "mimetype": "text/x-python",
   "name": "python",
   "nbconvert_exporter": "python",
   "pygments_lexer": "ipython3",
   "version": "3.9.12"
  }
 },
 "nbformat": 4,
 "nbformat_minor": 5
}
